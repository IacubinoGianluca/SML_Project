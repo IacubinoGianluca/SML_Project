{
 "cells": [
  {
   "cell_type": "code",
   "execution_count": null,
   "metadata": {},
   "outputs": [],
   "source": [
    "from keras.models import Model, load_model\n",
    "from keras.layers import Input, Conv1D, Dense, Dropout, Lambda, Concatenate\n",
    "from keras.optimizers import Adam\n",
    "import numpy as np\n",
    "import matplotlib.pyplot as plt\n",
    "from wavenet_preprocessing import preprocessing\n",
    "import datetime\n",
    "import pandas as pd\n",
    "import pathlib\n",
    "import gc\n",
    "from wavenet_model import*"
   ]
  },
  {
   "cell_type": "code",
   "execution_count": null,
   "metadata": {},
   "outputs": [],
   "source": [
    "pages, cmp_enc_start, cmp_enc_end, pred_steps, series_array, \\\n",
    "data_start_date, data_end_date, train_pred_start, \\\n",
    "train_pred_end, train_enc_start, train_enc_end,  val_enc_start, \\\n",
    "val_enc_end, date_to_index, val_pred_start, val_pred_end = preprocessing()\n",
    "\n",
    "gc.collect()"
   ]
  },
  {
   "cell_type": "code",
   "execution_count": null,
   "metadata": {},
   "outputs": [],
   "source": [
    "# convolutional layer oparameters\n",
    "n_filters = 128\n",
    "filter_width = 5\n",
    "\n",
    "model = build_model(n_filters, filter_width)\n",
    "model.summary()"
   ]
  },
  {
   "cell_type": "code",
   "execution_count": null,
   "metadata": {},
   "outputs": [],
   "source": [
    "batch_size = 2**5\n",
    "epochs = 20\n",
    "\n",
    "# sample of series from train_enc_start to train_enc_end\n",
    "# sample of series from train_enc_start to train_enc_end\n",
    "\n",
    "###ENCODER###\n",
    "encoder_input_data = get_time_block_series(series_array, date_to_index,\n",
    "                                        train_enc_start, train_enc_end)[:1000]\n",
    "\n",
    "\n",
    "encoder_input_data, encode_series_mean, \\\n",
    "        encode_series_std = transform_series_encode(encoder_input_data)\n",
    "\n",
    "np.isnan(encoder_input_data).any()\n",
    "\n",
    "\n",
    "# sample of series from train_pred_start to train_pred_end\n",
    "\n",
    "###DECODER###\n",
    "decoder_target_data = get_time_block_series(series_array, date_to_index,\n",
    "                                                train_pred_start, train_pred_end)[:1000]\n",
    "\n",
    "decoder_target_data = transform_series_decode(decoder_target_data, \\\n",
    "                                              encode_series_mean, encode_series_std)\n",
    "\n",
    "np.isnan(decoder_target_data).any()\n",
    "\n",
    "# we append a lagged history of the target series to the input data,\n",
    "# so that we can train with teacher forcing\n",
    "lagged_target_history = decoder_target_data[:,:-1,:1]\n",
    "encoder_input_data = np.concatenate([encoder_input_data, lagged_target_history], axis=1)\n",
    "\n",
    "model.compile(Adam(), loss='mean_absolute_error')\n",
    "history = model.fit(encoder_input_data, decoder_target_data,\n",
    "                        batch_size=batch_size,\n",
    "                        epochs=epochs,\n",
    "                        validation_split=0.2)\n",
    "# save the model\n",
    "model.save(model_name + '.h5')"
   ]
  },
  {
   "cell_type": "code",
   "execution_count": null,
   "metadata": {},
   "outputs": [],
   "source": [
    "plt.figure()\n",
    "plt.plot(history.history['loss'])\n",
    "plt.plot(history.history['val_loss'])\n",
    "\n",
    "plt.xlabel('Epoch')\n",
    "plt.ylabel('Mean Absolute Error Loss')\n",
    "plt.title('Loss Over Time')\n",
    "plt.legend(['Train','Valid'])"
   ]
  },
  {
   "cell_type": "code",
   "execution_count": null,
   "metadata": {},
   "outputs": [],
   "source": [
    "###ENCODER###\n",
    "encoder_input_data = get_time_block_series(series_array,\\\n",
    "                                           date_to_index, val_enc_start, val_enc_end)\n",
    "\n",
    "encoder_input_data, encode_series_mean,\\\n",
    "        encode_series_std =transform_series_encode(encoder_input_data)\n",
    "\n",
    "###DECODER###\n",
    "decoder_target_data = get_time_block_series(series_array, \\\n",
    "                                            date_to_index, val_pred_start, val_pred_end)\n",
    "\n",
    "decoder_target_data = transform_series_decode(decoder_target_data, \\\n",
    "                                              encode_series_mean, encode_series_std)\n",
    "\n",
    "\n",
    "predict_and_plot(encoder_input_data, 100, 2**8,decoder_target_data=decoder_target_data)\n",
    "predict_and_plot(encoder_input_data, 70000, 2**8, decoder_target_data=decoder_target_data)\n",
    "\n",
    "# In-sample prediction\n",
    "in_sample_predicition = model.predict(encoder_input_data[700:701, :-24, :],2**8)\n",
    "\n",
    "input = encoder_input_data[700:701, :, :].reshape(-1, 1)\n",
    "in_sample_predicition = in_sample_predicition.reshape(-1, 1)\n",
    "\n",
    "plt.figure()\n",
    "plt.plot(input[-24:,:])\n",
    "plt.plot(in_sample_predicition)\n",
    "plt.legend(['data',\"prediction\"])\n",
    "\n",
    "in_sample_predicition = model.predict(encoder_input_data[300:301, :-24, :],2**8)\n",
    "\n",
    "input = encoder_input_data[300:301, :, :].reshape(-1, 1)\n",
    "in_sample_predicition = in_sample_predicition.reshape(-1, 1)\n",
    "plt.figure()\n",
    "plt.plot(input[-24:,:])\n",
    "plt.plot(in_sample_predicition)\n",
    "plt.legend(['data',\"prediction\"])"
   ]
  }
 ],
 "metadata": {
  "kernelspec": {
   "display_name": "Python 3",
   "language": "python",
   "name": "python3"
  },
  "language_info": {
   "codemirror_mode": {
    "name": "ipython",
    "version": 3
   },
   "file_extension": ".py",
   "mimetype": "text/x-python",
   "name": "python",
   "nbconvert_exporter": "python",
   "pygments_lexer": "ipython3",
   "version": "3.7.3"
  }
 },
 "nbformat": 4,
 "nbformat_minor": 2
}
