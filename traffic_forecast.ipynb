{
 "cells": [
  {
   "cell_type": "code",
   "execution_count": 1,
   "metadata": {},
   "outputs": [],
   "source": [
    "import pandas as pd\n",
    "import numpy as np\n",
    "from datetime import datetime\n",
    "import re\n",
    "import matplotlib.pyplot as plt"
   ]
  },
  {
   "cell_type": "code",
   "execution_count": 2,
   "metadata": {},
   "outputs": [
    {
     "name": "stdout",
     "output_type": "stream",
     "text": [
      "                                                Page  2015-07-01  2015-07-02  \\\n",
      "0            2NE1_zh.wikipedia.org_all-access_spider        18.0        11.0   \n",
      "1             2PM_zh.wikipedia.org_all-access_spider        11.0        14.0   \n",
      "2              3C_zh.wikipedia.org_all-access_spider         1.0         0.0   \n",
      "3         4minute_zh.wikipedia.org_all-access_spider        35.0        13.0   \n",
      "4  52_Hz_I_Love_You_zh.wikipedia.org_all-access_s...         NaN         NaN   \n",
      "\n",
      "   2015-07-03  2015-07-04  2015-07-05  2015-07-06  2015-07-07  2015-07-08  \\\n",
      "0         5.0        13.0        14.0         9.0         9.0        22.0   \n",
      "1        15.0        18.0        11.0        13.0        22.0        11.0   \n",
      "2         1.0         1.0         0.0         4.0         0.0         3.0   \n",
      "3        10.0        94.0         4.0        26.0        14.0         9.0   \n",
      "4         NaN         NaN         NaN         NaN         NaN         NaN   \n",
      "\n",
      "   2015-07-09     ...      2016-12-22  2016-12-23  2016-12-24  2016-12-25  \\\n",
      "0        26.0     ...            32.0        63.0        15.0        26.0   \n",
      "1        10.0     ...            17.0        42.0        28.0        15.0   \n",
      "2         4.0     ...             3.0         1.0         1.0         7.0   \n",
      "3        11.0     ...            32.0        10.0        26.0        27.0   \n",
      "4         NaN     ...            48.0         9.0        25.0        13.0   \n",
      "\n",
      "   2016-12-26  2016-12-27  2016-12-28  2016-12-29  2016-12-30  2016-12-31  \n",
      "0        14.0        20.0        22.0        19.0        18.0        20.0  \n",
      "1         9.0        30.0        52.0        45.0        26.0        20.0  \n",
      "2         4.0         4.0         6.0         3.0         4.0        17.0  \n",
      "3        16.0        11.0        17.0        19.0        10.0        11.0  \n",
      "4         3.0        11.0        27.0        13.0        36.0        10.0  \n",
      "\n",
      "[5 rows x 551 columns]\n"
     ]
    }
   ],
   "source": [
    "train_1 = pd.read_csv(r'D:\\UNIVERSITA\\MAGISTRALE\\Secondo anno\\StatMachineLearning\\WebTrafficForecasting\\web-traffic-time-series-forecasting\\train_1.csv')\n",
    "print(train_1.head())"
   ]
  },
  {
   "cell_type": "code",
   "execution_count": 3,
   "metadata": {},
   "outputs": [
    {
     "name": "stdout",
     "output_type": "stream",
     "text": [
      "Page\n",
      "!vote_en.wikipedia.org_all-access_all-agents                                                        1\n",
      "!vote_en.wikipedia.org_all-access_spider                                                            1\n",
      "!vote_en.wikipedia.org_desktop_all-agents                                                           1\n",
      "\"Awaken,_My_Love!\"_en.wikipedia.org_all-access_all-agents                                           1\n",
      "\"Awaken,_My_Love!\"_en.wikipedia.org_all-access_spider                                               1\n",
      "\"Awaken,_My_Love!\"_en.wikipedia.org_desktop_all-agents                                              1\n",
      "\"European_Society_for_Clinical_Investigation\"_en.wikipedia.org_all-access_all-agents                1\n",
      "\"European_Society_for_Clinical_Investigation\"_en.wikipedia.org_all-access_spider                    1\n",
      "\"European_Society_for_Clinical_Investigation\"_en.wikipedia.org_desktop_all-agents                   1\n",
      "\"Heroes\"_(David_Bowie_album)_en.wikipedia.org_all-access_all-agents                                 1\n",
      "\"Heroes\"_(David_Bowie_album)_en.wikipedia.org_all-access_spider                                     1\n",
      "\"Heroes\"_(David_Bowie_album)_en.wikipedia.org_desktop_all-agents                                    1\n",
      "\"Keep_me_logged_in\"_extended_to_one_year_www.mediawiki.org_all-access_all-agents                    1\n",
      "\"Keep_me_logged_in\"_extended_to_one_year_www.mediawiki.org_all-access_spider                        1\n",
      "\"Keep_me_logged_in\"_extended_to_one_year_www.mediawiki.org_desktop_all-agents                       1\n",
      "\"Keep_me_logged_in\"_extended_to_one_year_www.mediawiki.org_mobile-web_all-agents                    1\n",
      "\"Weird_Al\"_Yankovic_en.wikipedia.org_all-access_all-agents                                          1\n",
      "\"Weird_Al\"_Yankovic_en.wikipedia.org_all-access_spider                                              1\n",
      "\"Weird_Al\"_Yankovic_en.wikipedia.org_desktop_all-agents                                             1\n",
      "%s_www.mediawiki.org_mobile-web_all-agents                                                          1\n",
      "'Tis_the_Season_(Vince_Gill_and_Olivia_Newton-John_album)_en.wikipedia.org_all-access_all-agents    1\n",
      "'Tis_the_Season_(Vince_Gill_and_Olivia_Newton-John_album)_en.wikipedia.org_all-access_spider        1\n",
      "'Tis_the_Season_(Vince_Gill_and_Olivia_Newton-John_album)_en.wikipedia.org_mobile-web_all-agents    1\n",
      "'Tis_the_Season_en.wikipedia.org_all-access_all-agents                                              1\n",
      "'Tis_the_Season_en.wikipedia.org_all-access_spider                                                  1\n",
      "'Tis_the_Season_en.wikipedia.org_desktop_all-agents                                                 1\n",
      "'Tis_the_Season_en.wikipedia.org_mobile-web_all-agents                                              1\n",
      "(1)_Ceres_de.wikipedia.org_desktop_all-agents                                                       1\n",
      "(236984)_Astier_fr.wikipedia.org_all-access_all-agents                                              1\n",
      "(236984)_Astier_fr.wikipedia.org_all-access_spider                                                  1\n",
      "                                                                                                   ..\n",
      "龍千玉_zh.wikipedia.org_all-access_spider                                                              1\n",
      "龍千玉_zh.wikipedia.org_desktop_all-agents                                                             1\n",
      "龍千玉_zh.wikipedia.org_mobile-web_all-agents                                                          1\n",
      "龍應台_zh.wikipedia.org_all-access_all-agents                                                          1\n",
      "龍應台_zh.wikipedia.org_all-access_spider                                                              1\n",
      "龍應台_zh.wikipedia.org_desktop_all-agents                                                             1\n",
      "龍抬頭_zh.wikipedia.org_mobile-web_all-agents                                                          1\n",
      "龍涎香_zh.wikipedia.org_all-access_all-agents                                                          1\n",
      "龍涎香_zh.wikipedia.org_all-access_spider                                                              1\n",
      "龍涎香_zh.wikipedia.org_desktop_all-agents                                                             1\n",
      "龍珠超_zh.wikipedia.org_all-access_all-agents                                                          1\n",
      "龍珠超_zh.wikipedia.org_all-access_spider                                                              1\n",
      "龍珠超_zh.wikipedia.org_desktop_all-agents                                                             1\n",
      "龍珠超_zh.wikipedia.org_mobile-web_all-agents                                                          1\n",
      "龐茲騙局_zh.wikipedia.org_all-access_all-agents                                                         1\n",
      "龐茲騙局_zh.wikipedia.org_all-access_spider                                                             1\n",
      "龐茲騙局_zh.wikipedia.org_desktop_all-agents                                                            1\n",
      "龔嘉欣_zh.wikipedia.org_all-access_all-agents                                                          1\n",
      "龔嘉欣_zh.wikipedia.org_all-access_spider                                                              1\n",
      "龔嘉欣_zh.wikipedia.org_desktop_all-agents                                                             1\n",
      "龔嘉欣_zh.wikipedia.org_mobile-web_all-agents                                                          1\n",
      "龔照勝_zh.wikipedia.org_desktop_all-agents                                                             1\n",
      "龙生九子_zh.wikipedia.org_mobile-web_all-agents                                                         1\n",
      "대문_commons.wikimedia.org_all-access_all-agents                                                      1\n",
      "대문_commons.wikimedia.org_all-access_spider                                                          1\n",
      "대문_commons.wikimedia.org_desktop_all-agents                                                         1\n",
      "［Alexandros］_ja.wikipedia.org_all-access_all-agents                                                 1\n",
      "［Alexandros］_ja.wikipedia.org_all-access_spider                                                     1\n",
      "［Alexandros］_ja.wikipedia.org_desktop_all-agents                                                    1\n",
      "［Alexandros］_ja.wikipedia.org_mobile-web_all-agents                                                 1\n",
      "Name: Page, Length: 145063, dtype: int64\n"
     ]
    }
   ],
   "source": [
    "print(train_1.groupby('Page')['Page'].count())"
   ]
  },
  {
   "cell_type": "code",
   "execution_count": 4,
   "metadata": {},
   "outputs": [
    {
     "name": "stdout",
     "output_type": "stream",
     "text": [
      "Special:MyLanguage/Wikipedia.org_updated_page_layout_www.mediawiki.org_all-access_all-agents\n",
      "Wikipedia.org_Portal_www.mediawiki.org_all-access_all-agents\n",
      "Wikipedia.org_add_mobile_app_badges_www.mediawiki.org_all-access_all-agents\n",
      "Wikipedia.org_updated_page_layout_www.mediawiki.org_all-access_all-agents\n",
      "Category:MediaWiki.org_website_www.mediawiki.org_all-access_all-agents\n",
      "Category:MediaWiki.org_website/zh_www.mediawiki.org_all-access_all-agents\n",
      "Talk:Wikipedia.org_add_mobile_app_badges_www.mediawiki.org_all-access_all-agents\n",
      "Category:MediaWiki.org_website/zh_www.mediawiki.org_mobile-web_all-agents\n",
      "Special:MyLanguage/-o-linear-gradient(transparent,transparent),url(/www.mediawiki.org/static/1.27.0-wmf.10/extensions/MobileFrontend/resources/skins.minerva.content.styles/images/external-link-ltr-icon.png_www.mediawiki.org_mobile-web_all-agents\n",
      "Wikipedia.org_Portal_www.mediawiki.org_mobile-web_all-agents\n",
      "Wikipedia.org_add_mobile_app_badges_www.mediawiki.org_mobile-web_all-agents\n",
      "Category:MediaWiki.org_website_www.mediawiki.org_mobile-web_all-agents\n",
      "Talk:Wikipedia.org_add_mobile_app_badges_www.mediawiki.org_mobile-web_all-agents\n",
      "File:Vector_skin_elements_on_mediawiki.org.png_www.mediawiki.org_mobile-web_all-agents\n",
      "Special:MyLanguage/Wikipedia.org_updated_page_layout_www.mediawiki.org_desktop_all-agents\n",
      "Wikipedia.org_Portal_www.mediawiki.org_desktop_all-agents\n",
      "Wikipedia.org_add_mobile_app_badges_www.mediawiki.org_desktop_all-agents\n",
      "Wikipedia.org_updated_page_layout_www.mediawiki.org_desktop_all-agents\n",
      "Category:MediaWiki.org_website_www.mediawiki.org_desktop_all-agents\n",
      "Category:MediaWiki.org_website/zh_www.mediawiki.org_desktop_all-agents\n",
      "Talk:Wikipedia.org_add_mobile_app_badges_www.mediawiki.org_desktop_all-agents\n",
      "File:Jarrow,_the_Spirit_of_Jarrow_-_geograph.org.uk_-_595991_(cropped).jpg_commons.wikimedia.org_mobile-web_all-agents\n",
      "File:A_track_ford_across_a_polluted_stream_-_geograph.org.uk_-_558686.jpg_commons.wikimedia.org_mobile-web_all-agents\n",
      "Category:MediaWiki.org_website/zh_www.mediawiki.org_all-access_spider\n",
      "Special:MyLanguage/Wikipedia.org_updated_page_layout_www.mediawiki.org_all-access_spider\n",
      "Wikipedia.org_Portal_www.mediawiki.org_all-access_spider\n",
      "Wikipedia.org_add_mobile_app_badges_www.mediawiki.org_all-access_spider\n",
      "Wikipedia.org_updated_page_layout_www.mediawiki.org_all-access_spider\n",
      "Category:MediaWiki.org_website_www.mediawiki.org_all-access_spider\n",
      "Talk:Wikipedia.org_add_mobile_app_badges_www.mediawiki.org_all-access_spider\n",
      "RuTracker.org_ru.wikipedia.org_all-access_all-agents\n",
      "RuTracker.org_ru.wikipedia.org_desktop_all-agents\n",
      "RuTracker.org_ru.wikipedia.org_all-access_spider\n"
     ]
    }
   ],
   "source": [
    "for row in train_1['Page']:\n",
    "    x = row.count('.org')\n",
    "    if x > 1:\n",
    "        print(row)"
   ]
  },
  {
   "cell_type": "code",
   "execution_count": 5,
   "metadata": {},
   "outputs": [
    {
     "name": "stdout",
     "output_type": "stream",
     "text": [
      "                               0                  1\n",
      "0              2NE1_zh.wikipedia  all-access_spider\n",
      "1               2PM_zh.wikipedia  all-access_spider\n",
      "2                3C_zh.wikipedia  all-access_spider\n",
      "3           4minute_zh.wikipedia  all-access_spider\n",
      "4  52_Hz_I_Love_You_zh.wikipedia  all-access_spider\n"
     ]
    }
   ],
   "source": [
    "new = train_1[\"Page\"].str.rsplit(\".org_\", n = 1, expand = True)\n",
    "print(new.head())"
   ]
  },
  {
   "cell_type": "code",
   "execution_count": 6,
   "metadata": {},
   "outputs": [
    {
     "name": "stdout",
     "output_type": "stream",
     "text": [
      "0                2NE1_zh.wikipedia.org\n",
      "1                 2PM_zh.wikipedia.org\n",
      "2                  3C_zh.wikipedia.org\n",
      "3             4minute_zh.wikipedia.org\n",
      "4    52_Hz_I_Love_You_zh.wikipedia.org\n",
      "Name: Page, dtype: object\n"
     ]
    }
   ],
   "source": [
    "train_1['Page'] = new[0] + '.org'\n",
    "print(train_1.Page.head())"
   ]
  },
  {
   "cell_type": "code",
   "execution_count": 7,
   "metadata": {},
   "outputs": [
    {
     "name": "stdout",
     "output_type": "stream",
     "text": [
      "0    all-access_spider\n",
      "1    all-access_spider\n",
      "2    all-access_spider\n",
      "3    all-access_spider\n",
      "4    all-access_spider\n",
      "Name: Type_of_traffic, dtype: object\n"
     ]
    }
   ],
   "source": [
    "train_1['Type_of_traffic'] = new[1]\n",
    "print(train_1.Type_of_traffic.head())"
   ]
  },
  {
   "cell_type": "code",
   "execution_count": 8,
   "metadata": {},
   "outputs": [
    {
     "name": "stdout",
     "output_type": "stream",
     "text": [
      "            0       1\n",
      "0  all-access  spider\n",
      "1  all-access  spider\n",
      "2  all-access  spider\n",
      "3  all-access  spider\n",
      "4  all-access  spider\n"
     ]
    }
   ],
   "source": [
    "new = train_1[\"Type_of_traffic\"].str.split(\"_\", n = 1, expand = True)\n",
    "print(new.head())"
   ]
  },
  {
   "cell_type": "code",
   "execution_count": 9,
   "metadata": {},
   "outputs": [
    {
     "name": "stdout",
     "output_type": "stream",
     "text": [
      "                                Page Type_of_traffic   Agent\n",
      "0              2NE1_zh.wikipedia.org      all-access  spider\n",
      "1               2PM_zh.wikipedia.org      all-access  spider\n",
      "2                3C_zh.wikipedia.org      all-access  spider\n",
      "3           4minute_zh.wikipedia.org      all-access  spider\n",
      "4  52_Hz_I_Love_You_zh.wikipedia.org      all-access  spider\n"
     ]
    }
   ],
   "source": [
    "train_1['Type_of_traffic'] = new[0]\n",
    "train_1['Agent'] = new[1]\n",
    "print(train_1[['Page', 'Type_of_traffic', 'Agent']].head())"
   ]
  },
  {
   "cell_type": "code",
   "execution_count": 10,
   "metadata": {},
   "outputs": [],
   "source": [
    "def get_location(regex, series):\n",
    "    data = pd.DataFrame([])\n",
    "    for row in series:\n",
    "        if re.search(regex, row):\n",
    "            data = data.append(pd.DataFrame({'location': re.search(regex, row).group(1)}, index=[0]), ignore_index=True) \n",
    "        else:\n",
    "            data = data.append(pd.DataFrame({'location': 'na'}, index=[0]), ignore_index=True)\n",
    "    return data"
   ]
  },
  {
   "cell_type": "code",
   "execution_count": 11,
   "metadata": {},
   "outputs": [
    {
     "name": "stdout",
     "output_type": "stream",
     "text": [
      "0    zh\n",
      "1    zh\n",
      "2    zh\n",
      "3    zh\n",
      "4    zh\n",
      "Name: location, dtype: object\n"
     ]
    }
   ],
   "source": [
    "new = get_location(r'.+_(\\w{2})\\.wiki', train_1['Page'])\n",
    "train_1['location'] = new['location']\n",
    "print(train_1.location.head())"
   ]
  },
  {
   "cell_type": "code",
   "execution_count": 12,
   "metadata": {},
   "outputs": [
    {
     "name": "stdout",
     "output_type": "stream",
     "text": [
      "['zh' 'fr' 'en' 'na' 'ru' 'de' 'ja' 'es']\n"
     ]
    }
   ],
   "source": [
    "print(train_1.location.unique())"
   ]
  },
  {
   "cell_type": "code",
   "execution_count": 13,
   "metadata": {},
   "outputs": [],
   "source": [
    "train_1_melted = pd.melt(train_1, id_vars=['Page', 'Type_of_traffic', 'Agent', 'location'], var_name='Date', value_name='count')"
   ]
  },
  {
   "cell_type": "code",
   "execution_count": 14,
   "metadata": {},
   "outputs": [
    {
     "name": "stdout",
     "output_type": "stream",
     "text": [
      "                                Page Type_of_traffic   Agent location  \\\n",
      "0              2NE1_zh.wikipedia.org      all-access  spider       zh   \n",
      "1               2PM_zh.wikipedia.org      all-access  spider       zh   \n",
      "2                3C_zh.wikipedia.org      all-access  spider       zh   \n",
      "3           4minute_zh.wikipedia.org      all-access  spider       zh   \n",
      "4  52_Hz_I_Love_You_zh.wikipedia.org      all-access  spider       zh   \n",
      "\n",
      "         Date  count  \n",
      "0  2015-07-01   18.0  \n",
      "1  2015-07-01   11.0  \n",
      "2  2015-07-01    1.0  \n",
      "3  2015-07-01   35.0  \n",
      "4  2015-07-01    NaN  \n"
     ]
    }
   ],
   "source": [
    "print(train_1_melted.head())"
   ]
  },
  {
   "cell_type": "code",
   "execution_count": 15,
   "metadata": {},
   "outputs": [
    {
     "name": "stdout",
     "output_type": "stream",
     "text": [
      "                                Page  location      Date     count\n",
      "Type_of_traffic Agent                                             \n",
      "all-access      all-agents  21671100  21671100  21671100  19955973\n",
      "                spider      19202150  19202150  19202150  17820399\n",
      "desktop         all-agents  19144950  19144950  19144950  17464320\n",
      "mobile-web      all-agents  19766450  19766450  19766450  18351027\n"
     ]
    }
   ],
   "source": [
    "print(train_1_melted.groupby(['Type_of_traffic', 'Agent']).count())"
   ]
  },
  {
   "cell_type": "code",
   "execution_count": 16,
   "metadata": {},
   "outputs": [
    {
     "name": "stdout",
     "output_type": "stream",
     "text": [
      "                                                    Type_of_traffic  Agent  \\\n",
      "Page                                                                         \n",
      "!vote_en.wikipedia.org                                         1650   1650   \n",
      "\"Awaken,_My_Love!\"_en.wikipedia.org                            1650   1650   \n",
      "\"European_Society_for_Clinical_Investigation\"_e...             1650   1650   \n",
      "\"Heroes\"_(David_Bowie_album)_en.wikipedia.org                  1650   1650   \n",
      "\"Keep_me_logged_in\"_extended_to_one_year_www.me...             2200   2200   \n",
      "\n",
      "                                                    location  Date  count  \n",
      "Page                                                                       \n",
      "!vote_en.wikipedia.org                                  1650  1650   1578  \n",
      "\"Awaken,_My_Love!\"_en.wikipedia.org                     1650  1650    144  \n",
      "\"European_Society_for_Clinical_Investigation\"_e...      1650  1650    474  \n",
      "\"Heroes\"_(David_Bowie_album)_en.wikipedia.org           1650  1650   1392  \n",
      "\"Keep_me_logged_in\"_extended_to_one_year_www.me...      2200  2200    568  \n"
     ]
    }
   ],
   "source": [
    "print(train_1_melted.groupby(['Page']).count().head())"
   ]
  },
  {
   "cell_type": "code",
   "execution_count": 17,
   "metadata": {},
   "outputs": [],
   "source": [
    "train_1_melted['Date'] = train_1_melted['Date'].astype('datetime64[ns]')"
   ]
  },
  {
   "cell_type": "code",
   "execution_count": 18,
   "metadata": {},
   "outputs": [
    {
     "name": "stdout",
     "output_type": "stream",
     "text": [
      "0   2015-07-01\n",
      "1   2015-07-01\n",
      "2   2015-07-01\n",
      "3   2015-07-01\n",
      "4   2015-07-01\n",
      "Name: Date, dtype: datetime64[ns]\n"
     ]
    },
    {
     "data": {
      "text/plain": [
       "pandas.core.series.Series"
      ]
     },
     "execution_count": 18,
     "metadata": {},
     "output_type": "execute_result"
    }
   ],
   "source": [
    "print(train_1_melted['Date'].head())\n",
    "type(train_1_melted['Date'])"
   ]
  },
  {
   "cell_type": "code",
   "execution_count": 19,
   "metadata": {},
   "outputs": [],
   "source": [
    "train_1_melted['weekday'] = train_1_melted['Date'].apply(lambda x: x.weekday())\n"
   ]
  },
  {
   "cell_type": "code",
   "execution_count": 20,
   "metadata": {},
   "outputs": [
    {
     "name": "stdout",
     "output_type": "stream",
     "text": [
      "[2 3 4 5 6 0 1]\n"
     ]
    }
   ],
   "source": [
    "print(train_1_melted.weekday.unique())"
   ]
  },
  {
   "cell_type": "code",
   "execution_count": 21,
   "metadata": {},
   "outputs": [
    {
     "name": "stdout",
     "output_type": "stream",
     "text": [
      "                                Page Type_of_traffic   Agent location  \\\n",
      "0              2NE1_zh.wikipedia.org      all-access  spider       zh   \n",
      "1               2PM_zh.wikipedia.org      all-access  spider       zh   \n",
      "2                3C_zh.wikipedia.org      all-access  spider       zh   \n",
      "3           4minute_zh.wikipedia.org      all-access  spider       zh   \n",
      "4  52_Hz_I_Love_You_zh.wikipedia.org      all-access  spider       zh   \n",
      "\n",
      "        Date  count  weekday  \n",
      "0 2015-07-01   18.0        2  \n",
      "1 2015-07-01   11.0        2  \n",
      "2 2015-07-01    1.0        2  \n",
      "3 2015-07-01   35.0        2  \n",
      "4 2015-07-01    NaN        2  \n"
     ]
    }
   ],
   "source": [
    "print(train_1_melted.head())"
   ]
  },
  {
   "cell_type": "code",
   "execution_count": 22,
   "metadata": {},
   "outputs": [
    {
     "name": "stdout",
     "output_type": "stream",
     "text": [
      "52766\n"
     ]
    }
   ],
   "source": [
    "# EDA\n",
    "# number of different pages\n",
    "print(str(len(train_1_melted.Page.unique())))"
   ]
  },
  {
   "cell_type": "code",
   "execution_count": 23,
   "metadata": {},
   "outputs": [
    {
     "name": "stdout",
     "output_type": "stream",
     "text": [
      "Type_of_traffic\n",
      "all-access    40873250\n",
      "desktop       19144950\n",
      "mobile-web    19766450\n",
      "Name: Type_of_traffic, dtype: int64\n"
     ]
    }
   ],
   "source": [
    "new = train_1_melted.groupby('Type_of_traffic')['Type_of_traffic'].count()\n",
    "print(new)"
   ]
  },
  {
   "cell_type": "code",
   "execution_count": 24,
   "metadata": {},
   "outputs": [
    {
     "data": {
      "image/png": "[encoded data removed]",
      "text/plain": [
       "<Figure size 432x288 with 1 Axes>"
      ]
     },
     "metadata": {
      "needs_background": "light"
     },
     "output_type": "display_data"
    }
   ],
   "source": [
    "fig, ax = plt.subplots()\n",
    "ax.bar(new.index, new)\n",
    "ax.set_xlabel('Type of Traffic')\n",
    "ax.set_ylabel('count')\n",
    "plt.show()"
   ]
  },
  {
   "cell_type": "code",
   "execution_count": 25,
   "metadata": {},
   "outputs": [
    {
     "data": {
      "image/png": "[encoded data removed]",
      "text/plain": [
       "<Figure size 432x288 with 1 Axes>"
      ]
     },
     "metadata": {
      "needs_background": "light"
     },
     "output_type": "display_data"
    }
   ],
   "source": [
    "new = train_1_melted.groupby('Agent')['Agent'].count()\n",
    "fig, ax = plt.subplots()\n",
    "ax.bar(new.index, new)\n",
    "ax.set_xlabel('Agent')\n",
    "ax.set_ylabel('count')\n",
    "plt.show()"
   ]
  },
  {
   "cell_type": "code",
   "execution_count": 26,
   "metadata": {},
   "outputs": [
    {
     "data": {
      "image/png": "[encoded data removed]",
      "text/plain": [
       "<Figure size 432x288 with 1 Axes>"
      ]
     },
     "metadata": {
      "needs_background": "light"
     },
     "output_type": "display_data"
    }
   ],
   "source": [
    "new = train_1_melted.groupby('location')['location'].count()\n",
    "fig, ax = plt.subplots()\n",
    "ax.bar(new.index, new)\n",
    "ax.set_xlabel('Location')\n",
    "ax.set_ylabel('count')\n",
    "plt.show()"
   ]
  },
  {
   "cell_type": "code",
   "execution_count": 27,
   "metadata": {},
   "outputs": [],
   "source": [
    "new = train_1_melted[train_1_melted['Page']=='2NE1_zh.wikipedia.org']"
   ]
  },
  {
   "cell_type": "code",
   "execution_count": 28,
   "metadata": {},
   "outputs": [
    {
     "name": "stdout",
     "output_type": "stream",
     "text": [
      "                         Page Type_of_traffic       Agent location       Date  \\\n",
      "0       2NE1_zh.wikipedia.org      all-access      spider       zh 2015-07-01   \n",
      "27965   2NE1_zh.wikipedia.org      all-access  all-agents       zh 2015-07-01   \n",
      "60570   2NE1_zh.wikipedia.org         desktop  all-agents       zh 2015-07-01   \n",
      "105110  2NE1_zh.wikipedia.org      mobile-web  all-agents       zh 2015-07-01   \n",
      "145063  2NE1_zh.wikipedia.org      all-access      spider       zh 2015-07-02   \n",
      "\n",
      "        count  weekday  \n",
      "0        18.0        2  \n",
      "27965   785.0        2  \n",
      "60570   540.0        2  \n",
      "105110  238.0        2  \n",
      "145063   11.0        3  \n"
     ]
    }
   ],
   "source": [
    "print(new.head())"
   ]
  },
  {
   "cell_type": "code",
   "execution_count": 29,
   "metadata": {
    "scrolled": true
   },
   "outputs": [
    {
     "name": "stdout",
     "output_type": "stream",
     "text": [
      "Date        Type_of_traffic  Agent     \n",
      "2015-07-01  all-access       all-agents    785.0\n",
      "                             spider         18.0\n",
      "            desktop          all-agents    540.0\n",
      "            mobile-web       all-agents    238.0\n",
      "2015-07-02  all-access       all-agents    725.0\n",
      "                             spider         11.0\n",
      "            desktop          all-agents    514.0\n",
      "            mobile-web       all-agents    211.0\n",
      "2015-07-03  all-access       all-agents    641.0\n",
      "                             spider          5.0\n",
      "            desktop          all-agents    400.0\n",
      "            mobile-web       all-agents    239.0\n",
      "2015-07-04  all-access       all-agents    704.0\n",
      "                             spider         13.0\n",
      "            desktop          all-agents    458.0\n",
      "            mobile-web       all-agents    244.0\n",
      "2015-07-05  all-access       all-agents    690.0\n",
      "                             spider         14.0\n",
      "            desktop          all-agents    467.0\n",
      "            mobile-web       all-agents    219.0\n",
      "2015-07-06  all-access       all-agents    657.0\n",
      "                             spider          9.0\n",
      "            desktop          all-agents    432.0\n",
      "            mobile-web       all-agents    223.0\n",
      "2015-07-07  all-access       all-agents    670.0\n",
      "                             spider          9.0\n",
      "            desktop          all-agents    441.0\n",
      "            mobile-web       all-agents    226.0\n",
      "2015-07-08  all-access       all-agents    698.0\n",
      "                             spider         22.0\n",
      "                                           ...  \n",
      "2016-12-24  desktop          all-agents    328.0\n",
      "            mobile-web       all-agents    239.0\n",
      "2016-12-25  all-access       all-agents    504.0\n",
      "                             spider         26.0\n",
      "            desktop          all-agents    308.0\n",
      "            mobile-web       all-agents    193.0\n",
      "2016-12-26  all-access       all-agents    709.0\n",
      "                             spider         14.0\n",
      "            desktop          all-agents    416.0\n",
      "            mobile-web       all-agents    290.0\n",
      "2016-12-27  all-access       all-agents    652.0\n",
      "                             spider         20.0\n",
      "            desktop          all-agents    410.0\n",
      "            mobile-web       all-agents    239.0\n",
      "2016-12-28  all-access       all-agents    654.0\n",
      "                             spider         22.0\n",
      "            desktop          all-agents    411.0\n",
      "            mobile-web       all-agents    237.0\n",
      "2016-12-29  all-access       all-agents    551.0\n",
      "                             spider         19.0\n",
      "            desktop          all-agents    333.0\n",
      "            mobile-web       all-agents    216.0\n",
      "2016-12-30  all-access       all-agents    643.0\n",
      "                             spider         18.0\n",
      "            desktop          all-agents    424.0\n",
      "            mobile-web       all-agents    217.0\n",
      "2016-12-31  all-access       all-agents    572.0\n",
      "                             spider         20.0\n",
      "            desktop          all-agents    361.0\n",
      "            mobile-web       all-agents    209.0\n",
      "Name: count, Length: 2200, dtype: float64\n"
     ]
    }
   ],
   "source": [
    "new_1 = new.groupby(['Date','Type_of_traffic', 'Agent'])['count'].sum()\n",
    "print(new_1)"
   ]
  },
  {
   "cell_type": "code",
   "execution_count": 30,
   "metadata": {},
   "outputs": [
    {
     "data": {
      "image/png": "[encoded data removed]",
      "text/plain": [
       "<Figure size 432x288 with 4 Axes>"
      ]
     },
     "metadata": {
      "needs_background": "light"
     },
     "output_type": "display_data"
    }
   ],
   "source": [
    "new_1.unstack(level=[1,2]).plot(kind = 'line', subplots = True)\n",
    "plt.show()"
   ]
  }
 ],
 "metadata": {
  "kernelspec": {
   "display_name": "Python 3",
   "language": "python",
   "name": "python3"
  },
  "language_info": {
   "codemirror_mode": {
    "name": "ipython",
    "version": 3
   },
   "file_extension": ".py",
   "mimetype": "text/x-python",
   "name": "python",
   "nbconvert_exporter": "python",
   "pygments_lexer": "ipython3",
   "version": "3.7.1"
  }
 },
 "nbformat": 4,
 "nbformat_minor": 2
}
